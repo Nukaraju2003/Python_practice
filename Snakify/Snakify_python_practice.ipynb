{
  "cells": [
    {
      "cell_type": "markdown",
      "metadata": {
        "id": "view-in-github",
        "colab_type": "text"
      },
      "source": [
        "<a href=\"https://colab.research.google.com/github/Nukaraju2003/Nukaraju2003.github.io/blob/main/Snakify_python_practice.ipynb\" target=\"_parent\"><img src=\"https://colab.research.google.com/assets/colab-badge.svg\" alt=\"Open In Colab\"/></a>"
      ]
    },
    {
      "cell_type": "code",
      "execution_count": null,
      "metadata": {
        "colab": {
          "base_uri": "https://localhost:8080/"
        },
        "id": "o0wRpTy7EKsq",
        "outputId": "f84eefd0-abe5-4fb8-d83d-fe66c91c042f"
      },
      "outputs": [
        {
          "name": "stdout",
          "output_type": "stream",
          "text": [
            "0 --->abc\n",
            "1 --->adbde\n",
            "2 --->afes\n"
          ]
        }
      ],
      "source": [
        "names = ['abc', 'adbde','afes']\n",
        "pos = 0\n",
        "for name in names:\n",
        "  print(f\"{pos} --->{name}\")\n",
        "  pos +=1"
      ]
    },
    {
      "cell_type": "code",
      "execution_count": null,
      "metadata": {
        "colab": {
          "base_uri": "https://localhost:8080/"
        },
        "id": "SS7sVNssE0VG",
        "outputId": "2d8d29d5-acd1-4416-d936-791498488e7d"
      },
      "outputs": [
        {
          "name": "stdout",
          "output_type": "stream",
          "text": [
            "0 ---> abc\n",
            "1 ---> adbde\n",
            "2 ---> afes\n"
          ]
        }
      ],
      "source": [
        "names = ['abc', 'adbde','afes']\n",
        "for pos,name in enumerate(names):\n",
        "  print(f\"{pos} ---> {name}\")"
      ]
    },
    {
      "cell_type": "code",
      "execution_count": null,
      "metadata": {
        "colab": {
          "base_uri": "https://localhost:8080/"
        },
        "id": "L3661F6XFgCP",
        "outputId": "fcf889b6-dd83-483a-e548-81a53a36810d"
      },
      "outputs": [
        {
          "name": "stdout",
          "output_type": "stream",
          "text": [
            "-1\n"
          ]
        }
      ],
      "source": [
        "names = ['abc','adbde','afes']\n",
        "def find_pos(l,target):\n",
        "  for pos, name in enumerate(l):\n",
        "    if name == target:\n",
        "      return pos\n",
        "  return -1    \n",
        "\n",
        "print(find_pos(names, 'abde'))      "
      ]
    },
    {
      "cell_type": "markdown",
      "metadata": {
        "id": "PJLatC4h8e-W"
      },
      "source": [
        "## Object Orientated Programming in Python"
      ]
    },
    {
      "cell_type": "code",
      "execution_count": null,
      "metadata": {
        "colab": {
          "base_uri": "https://localhost:8080/"
        },
        "id": "wUWmzoK2JDdK",
        "outputId": "8f9c6f59-6319-469a-a702-3fd95999e116"
      },
      "outputs": [
        {
          "name": "stdout",
          "output_type": "stream",
          "text": [
            "init method s executed branch = it\n",
            "False\n",
            "Truebye\n",
            "\n",
            "True\n",
            "Student regd.no. is 16PA1A0501\n",
            "Student name is Ramesh\n",
            "Student branch is it\n",
            "16PA1A0501\n",
            "Ramesh\n",
            "it\n",
            "True\n"
          ]
        }
      ],
      "source": [
        "class Student:\n",
        "#branch is a class variable\n",
        "  def __del__(self):\n",
        "    \n",
        "    self.stdincab = False\n",
        "    print(s.stdincab)\n",
        "  def __init__(self,branch):\n",
        "    self.branch = branch\n",
        "    self.stdincab = False\n",
        "    print(\"init method s executed branch =\",branch)\n",
        "  def read_student_details(self, rno, n):\n",
        "    #regdno and name are instance variables\n",
        "    self.stdincab = True\n",
        "    self.regdno = rno #regdno is private variable\n",
        "    self.name = n\n",
        "  def print_student_details(self):\n",
        "    print(\"Student regd.no. is\", self.regdno)\n",
        "    print(\"Student name is\", self.name)\n",
        "    print(\"Student branch is\", self.branch)\n",
        "  \n",
        "s = Student(\"it\")\n",
        "print(s.stdincab)\n",
        "s.read_student_details(\"16PA1A0501\", \"Ramesh\")\n",
        "print(s.stdincab)\n",
        "s.print_student_details()\n",
        "print(s.regdno)\n",
        "print(s.name)\n",
        "print(s.branch)\n",
        "print(s.stdincab)\n"
      ]
    },
    {
      "cell_type": "code",
      "execution_count": null,
      "metadata": {
        "colab": {
          "base_uri": "https://localhost:8080/"
        },
        "id": "epn7cTmgyv0Y",
        "outputId": "9f5903e5-8c36-42ff-de8a-e39f5c83d8d7"
      },
      "outputs": [
        {
          "name": "stdout",
          "output_type": "stream",
          "text": [
            "<class 'int'>\n"
          ]
        }
      ],
      "source": [
        "x = 1\n",
        "print(type(x))"
      ]
    },
    {
      "cell_type": "code",
      "execution_count": null,
      "metadata": {
        "colab": {
          "base_uri": "https://localhost:8080/"
        },
        "id": "bHMfdaot8EUV",
        "outputId": "a9dffe39-77cb-42ff-a445-b094105f86fb"
      },
      "outputs": [
        {
          "name": "stdout",
          "output_type": "stream",
          "text": [
            "<class 'str'>\n"
          ]
        }
      ],
      "source": [
        "print(type(\"Hello\"))"
      ]
    },
    {
      "cell_type": "code",
      "execution_count": null,
      "metadata": {
        "colab": {
          "base_uri": "https://localhost:8080/"
        },
        "id": "Q_LZ-voL8IMb",
        "outputId": "1550a69a-62c9-49a5-cc79-2580dbcd3a10"
      },
      "outputs": [
        {
          "name": "stdout",
          "output_type": "stream",
          "text": [
            "hello\n"
          ]
        }
      ],
      "source": [
        "def hello(name):\n",
        "  return name\n",
        "print(\"hello\")\n"
      ]
    },
    {
      "cell_type": "code",
      "execution_count": null,
      "metadata": {
        "colab": {
          "base_uri": "https://localhost:8080/"
        },
        "id": "lMM9Z_7T87LX",
        "outputId": "c114f5d5-66a0-4669-e761-4697d796d222"
      },
      "outputs": [
        {
          "name": "stdout",
          "output_type": "stream",
          "text": [
            "<class 'function'>\n"
          ]
        }
      ],
      "source": [
        "def hello():\n",
        "   print(\"hello\")\n",
        "\n",
        "print(type(hello))  "
      ]
    },
    {
      "cell_type": "markdown",
      "metadata": {
        "id": "aO3fqQubAGuF"
      },
      "source": [
        "Object which is an instance of a specific class"
      ]
    },
    {
      "cell_type": "code",
      "execution_count": null,
      "metadata": {
        "colab": {
          "base_uri": "https://localhost:8080/"
        },
        "id": "opV50ZJuAxYN",
        "outputId": "aa209d43-17b7-45eb-be39-d8895bc099fb"
      },
      "outputs": [
        {
          "name": "stdout",
          "output_type": "stream",
          "text": [
            "HELLO\n"
          ]
        }
      ],
      "source": [
        "string = \"hello\"\n",
        "print(string.upper())"
      ]
    },
    {
      "cell_type": "markdown",
      "metadata": {
        "id": "p44ceJz7Sqh9"
      },
      "source": [
        "# Snakify"
      ]
    },
    {
      "cell_type": "code",
      "execution_count": null,
      "metadata": {
        "colab": {
          "base_uri": "https://localhost:8080/"
        },
        "id": "2YPyDIYRBauI",
        "outputId": "119222a5-edc5-4bb1-cdab-d89f93dc32fd"
      },
      "outputs": [
        {
          "name": "stdout",
          "output_type": "stream",
          "text": [
            "What is your name?\n",
            "\n",
            "Hi !\n"
          ]
        }
      ],
      "source": [
        "print('What is your name?')\n",
        "name = input()\n",
        "print('Hi '+  name  +'!')\n"
      ]
    },
    {
      "cell_type": "code",
      "execution_count": null,
      "metadata": {
        "colab": {
          "base_uri": "https://localhost:8080/"
        },
        "id": "T5MgDQiJPUhz",
        "outputId": "9320f5bb-944e-45bf-a857-a2d9c09558bc"
      },
      "outputs": [
        {
          "name": "stdout",
          "output_type": "stream",
          "text": [
            "\n",
            "\n",
            "\n"
          ]
        }
      ],
      "source": [
        "a = input()\n",
        "b = input()\n",
        "s = a + b\n",
        "print(s)"
      ]
    },
    {
      "cell_type": "markdown",
      "metadata": {
        "id": "vCKjtWDfPk8q"
      },
      "source": [
        "All the values in Python are called \"objects\". Every object has a certain type. The number 2 corresponds to an object \"number 2\" of type \"int\" (i.e., an integer number). "
      ]
    },
    {
      "cell_type": "code",
      "execution_count": null,
      "metadata": {
        "colab": {
          "base_uri": "https://localhost:8080/"
        },
        "id": "gSoMDK0CQ_Vn",
        "outputId": "1e71cd04-7069-4da2-edec-4a9becda1b83"
      },
      "outputs": [
        {
          "name": "stdout",
          "output_type": "stream",
          "text": [
            "45\n",
            "48\n",
            "2160\n"
          ]
        }
      ],
      "source": [
        "first = int(input())\n",
        "second = int(input())\n",
        "\n",
        "print(first * second)"
      ]
    },
    {
      "cell_type": "code",
      "execution_count": null,
      "metadata": {
        "colab": {
          "base_uri": "https://localhost:8080/"
        },
        "id": "vmUl5BozRUPy",
        "outputId": "90485dd2-d869-4166-fe0d-792b58b31b0f"
      },
      "outputs": [
        {
          "name": "stdout",
          "output_type": "stream",
          "text": [
            "35\n"
          ]
        }
      ],
      "source": [
        "first = 5\n",
        "second = 7\n",
        "print(first * second)"
      ]
    },
    {
      "cell_type": "markdown",
      "metadata": {
        "id": "MnkQ6IXsRjf2"
      },
      "source": [
        "### Sum of three numbers\n",
        "#### Write a program that takes three numbers and prints their sum. Every number is given on a separate line.\n"
      ]
    },
    {
      "cell_type": "code",
      "execution_count": null,
      "metadata": {
        "colab": {
          "base_uri": "https://localhost:8080/"
        },
        "id": "1H68E5xASeo6",
        "outputId": "e56b02bf-c993-4661-9ebf-8b11445f5132"
      },
      "outputs": [
        {
          "name": "stdout",
          "output_type": "stream",
          "text": [
            "45\n",
            "48\n",
            "46\n",
            "139\n"
          ]
        }
      ],
      "source": [
        " a = int(input())\n",
        " b = int(input())\n",
        " c = int(input())\n",
        " s = a + b + c\n",
        " print(s)"
      ]
    },
    {
      "cell_type": "markdown",
      "metadata": {
        "id": "yfdLm0bGTXxA"
      },
      "source": [
        "### Write a program that greets the person by printing the word \"Hi\" and the name of the person. See the examples below."
      ]
    },
    {
      "cell_type": "code",
      "execution_count": null,
      "metadata": {
        "colab": {
          "base_uri": "https://localhost:8080/"
        },
        "id": "BzB0lbFLToDs",
        "outputId": "7db5fa95-7b53-4996-cf92-07d695177e1b"
      },
      "outputs": [
        {
          "name": "stdout",
          "output_type": "stream",
          "text": [
            "Raj\n",
            "Hi Raj\n"
          ]
        }
      ],
      "source": [
        "name1 = input()\n",
        "print('Hi ' + name1)"
      ]
    },
    {
      "cell_type": "markdown",
      "metadata": {
        "id": "irqGEBZMa33U"
      },
      "source": [
        "#### write a program that takes a number and prints its square"
      ]
    },
    {
      "cell_type": "code",
      "execution_count": null,
      "metadata": {
        "colab": {
          "base_uri": "https://localhost:8080/"
        },
        "id": "mG5_MwrIaoZo",
        "outputId": "0c11d50b-6834-4727-98c3-91f76e589866"
      },
      "outputs": [
        {
          "name": "stdout",
          "output_type": "stream",
          "text": [
            "4\n",
            "16\n"
          ]
        }
      ],
      "source": [
        "a = int(input())\n",
        "print(a*a)"
      ]
    },
    {
      "cell_type": "markdown",
      "metadata": {
        "id": "B9U0Onr-bA8P"
      },
      "source": [
        "## Area of right-angled triangle\n",
        "#### Write a program that reads the length of the base and the height of a right-angled triangle and prints the area. Every number is given on a separate line."
      ]
    },
    {
      "cell_type": "code",
      "execution_count": null,
      "metadata": {
        "colab": {
          "base_uri": "https://localhost:8080/"
        },
        "id": "llnt6itOchLl",
        "outputId": "6e061f76-d4ec-4f60-ca42-064dbefadeb2"
      },
      "outputs": [
        {
          "name": "stdout",
          "output_type": "stream",
          "text": [
            "45\n",
            "48\n",
            "1080.0\n"
          ]
        }
      ],
      "source": [
        "l = int(input())\n",
        "h = int(input())\n",
        "#area = 1/2 * len * hei\n",
        "print(l*h/2)\n",
        "#print(area)"
      ]
    },
    {
      "cell_type": "markdown",
      "metadata": {
        "id": "woWY7zKEf4ss"
      },
      "source": [
        "## Hello, Harry!\n",
        "Write a program that greets the user by printing the word \"Hello\", a comma, the name of the user and an exclamation mark after it. See the examples below.\n",
        "Warning. Your program's output should strictly match the desired one, character by character. There shouldn't be any space between the name and the exclamation mark. You can use + operator to concatenate two strings. See the lesson for details.\n"
      ]
    },
    {
      "cell_type": "code",
      "execution_count": null,
      "metadata": {
        "colab": {
          "base_uri": "https://localhost:8080/"
        },
        "id": "FcEai9q5dYCS",
        "outputId": "46a92611-52a5-49e9-e1ba-e6fd29d9bdfb"
      },
      "outputs": [
        {
          "name": "stdout",
          "output_type": "stream",
          "text": [
            "raju\n",
            "Hello, raju!\n"
          ]
        }
      ],
      "source": [
        "name = input()\n",
        "print(\"Hello, \" + name + \"!\")"
      ]
    },
    {
      "cell_type": "markdown",
      "metadata": {
        "id": "OSe7Ok1kfvHd"
      },
      "source": [
        "## Apple sharing\n",
        "Statement\n",
        "N students take K apples and distribute them among each other evenly. The remaining (the undivisible) part remains in the basket. How many apples will each single student get? How many apples will remain in the basket?\n",
        "The program reads the numbers N and K. It should print the two answers for the questions above."
      ]
    },
    {
      "cell_type": "code",
      "execution_count": null,
      "metadata": {
        "colab": {
          "base_uri": "https://localhost:8080/"
        },
        "id": "r4AhcwNOgp1f",
        "outputId": "cc4bbd86-7184-48b0-b878-3e4f95241d30"
      },
      "outputs": [
        {
          "name": "stdout",
          "output_type": "stream",
          "text": [
            "5\n",
            "63\n",
            "12\n",
            "3\n"
          ]
        }
      ],
      "source": [
        "N = int(input())\n",
        "k = int(input())\n",
        "print(k//N)\n",
        "print(k%N)"
      ]
    },
    {
      "cell_type": "markdown",
      "metadata": {
        "id": "f6Cl7N1-4CUF"
      },
      "source": [
        "#### Previous and next\n",
        "Statement\n",
        "Write a program that reads an integer number and prints its previous and next numbers. See the examples below for the exact format your answers should take. There shouldn't be a space before the period.\n",
        "Remember that you can convert the numbers to strings using the function str."
      ]
    },
    {
      "cell_type": "code",
      "execution_count": null,
      "metadata": {
        "colab": {
          "base_uri": "https://localhost:8080/"
        },
        "id": "OHELgSra1y8H",
        "outputId": "b0b04038-10c2-4ff0-f3a4-c5abf5e5a2bd"
      },
      "outputs": [
        {
          "name": "stdout",
          "output_type": "stream",
          "text": [
            "45\n",
            "The next number for the number 45 is 46.\n",
            "The previous number for the number 45 is 44.\n"
          ]
        }
      ],
      "source": [
        "n = int(input())\n",
        "x = n+1\n",
        "y = n-1\n",
        "print(\"The next number for the number \"+ str(n) + \" is \" + str(x)+ \".\")\n",
        "print(\"The previous number for the number \" + str(n) + \" is \" + str(y)+ \".\")"
      ]
    },
    {
      "cell_type": "markdown",
      "metadata": {
        "id": "6NgKVq-l4WJH"
      },
      "source": [
        "## Two timestamps\n",
        "## Statement\n",
        "A timestamp is three numbers: a number of hours, minutes and seconds. Given two timestamps, calculate how many seconds is between them. The moment of the first timestamp occurred before the moment of the second timestamp."
      ]
    },
    {
      "cell_type": "code",
      "execution_count": null,
      "metadata": {
        "colab": {
          "base_uri": "https://localhost:8080/"
        },
        "id": "tR3YPtWUB1kC",
        "outputId": "624baa67-94a1-4e5d-f20a-41affe20eb8e"
      },
      "outputs": [
        {
          "name": "stdout",
          "output_type": "stream",
          "text": [
            "1\n",
            "1\n",
            "1\n",
            "2\n",
            "2\n",
            "2\n",
            "3661\n"
          ]
        }
      ],
      "source": [
        "ahr = int(input())\n",
        "amin = int(input())\n",
        "asec = int(input())\n",
        "bhr = int(input())\n",
        "bmin = int(input())\n",
        "bsec = int(input())\n",
        "a = ahr*60*60 + amin*60 + asec\n",
        "b = bhr*60*60 + bmin*60 + bsec\n",
        "c = abs(a-b)\n",
        "print(c)\n",
        "\n",
        " "
      ]
    },
    {
      "cell_type": "markdown",
      "metadata": {
        "id": "jieRJPhvAaz2"
      },
      "source": [
        "#### School desks\n",
        "#### Statement\n",
        "A school decided to replace the desks in three classrooms. Each desk sits two students. Given the number of students in each class, print the smallest possible number of desks that can be purchased.\n",
        "The program should read three integers: the number of students in each of the three classes, a, b and c respectively.\n",
        "\n",
        "In the first test there are three groups. The first group has 20 students and thus needs 10 desks. The second group has 21 students, so they can get by with no fewer than 11 desks. 11 desks is also enough for the third group of 22 students. So we need 32 desks in total.\n"
      ]
    },
    {
      "cell_type": "code",
      "execution_count": null,
      "metadata": {
        "colab": {
          "base_uri": "https://localhost:8080/"
        },
        "id": "C6iSjSen8zqB",
        "outputId": "db7bd44c-ed10-42d9-bfbf-20f7d6fe2c0d"
      },
      "outputs": [
        {
          "name": "stdout",
          "output_type": "stream",
          "text": [
            "45\n",
            "45\n",
            "45\n",
            "69\n"
          ]
        }
      ],
      "source": [
        "import math\n",
        "a = int(input())  # No of students in the 1st class\n",
        "b = int(input())  # No of students in the 2nd class\n",
        "c = int(input())  # No of students in the 3rd class\n",
        "x = math.ceil(a/2)\n",
        "y = math.ceil(b/2)\n",
        "z = math.ceil(c/2)\n",
        "print(x+y+z) "
      ]
    },
    {
      "cell_type": "code",
      "execution_count": null,
      "metadata": {
        "colab": {
          "base_uri": "https://localhost:8080/"
        },
        "id": "5u0VwGKWT38U",
        "outputId": "4fd5c873-de3a-4e21-d4a2-b18b0b41ae34"
      },
      "outputs": [
        {
          "name": "stdout",
          "output_type": "stream",
          "text": [
            "1\n",
            "2\n",
            "-1\n",
            "-2\n",
            "4\n",
            "5\n"
          ]
        }
      ],
      "source": [
        "print(round(1.3))\n",
        "print(round(1.7))\n",
        "print(round(-1.3))\n",
        "print(round(-1.7))\n",
        "print(round(4.5))\n",
        "print(round(4.6))"
      ]
    },
    {
      "cell_type": "markdown",
      "metadata": {
        "id": "Oo6fHN8pDlQJ"
      },
      "source": [
        "## Integers and float numbers"
      ]
    },
    {
      "cell_type": "code",
      "execution_count": null,
      "metadata": {
        "colab": {
          "base_uri": "https://localhost:8080/"
        },
        "id": "D0UwD7a1Ev1X",
        "outputId": "41f36893-1863-4b2f-ccbf-363e6eae502c"
      },
      "outputs": [
        {
          "name": "stdout",
          "output_type": "stream",
          "text": [
            "0.30000000000000004\n"
          ]
        }
      ],
      "source": [
        "print(0.1 + 0.2)"
      ]
    },
    {
      "cell_type": "markdown",
      "metadata": {
        "id": "e7Y_hO7PXDcM"
      },
      "source": [
        "## math module"
      ]
    },
    {
      "cell_type": "code",
      "execution_count": null,
      "metadata": {
        "colab": {
          "base_uri": "https://localhost:8080/"
        },
        "id": "cbc_KfrlVqo0",
        "outputId": "043c32f9-cbb8-4bef-99eb-f1b4adfd11f2"
      },
      "outputs": [
        {
          "name": "stdout",
          "output_type": "stream",
          "text": [
            "1\n"
          ]
        }
      ],
      "source": [
        "from math import floor\n",
        "print(floor(1.3))"
      ]
    },
    {
      "cell_type": "code",
      "execution_count": null,
      "metadata": {
        "colab": {
          "base_uri": "https://localhost:8080/"
        },
        "id": "i00Lv5jb-zWR",
        "outputId": "268e9a93-bd52-49a9-d472-b806c575bd27"
      },
      "outputs": [
        {
          "name": "stdout",
          "output_type": "stream",
          "text": [
            "2\n"
          ]
        }
      ],
      "source": [
        "from math import ceil\n",
        "print(ceil(1.3))\n"
      ]
    },
    {
      "cell_type": "code",
      "execution_count": null,
      "metadata": {
        "colab": {
          "base_uri": "https://localhost:8080/"
        },
        "id": "dtM71Y_eOvsn",
        "outputId": "6538773d-89e0-42c8-b06b-5cc987e18324"
      },
      "outputs": [
        {
          "name": "stdout",
          "output_type": "stream",
          "text": [
            "90\n",
            "0.8939966636005579\n"
          ]
        }
      ],
      "source": [
        "from math import sin\n",
        "x = int(input())\n",
        "print(sin(x))"
      ]
    },
    {
      "cell_type": "code",
      "execution_count": null,
      "metadata": {
        "colab": {
          "base_uri": "https://localhost:8080/"
        },
        "id": "29zbQ52OWtVr",
        "outputId": "228567fa-2379-4863-8528-f8df3fe20322"
      },
      "outputs": [
        {
          "name": "stdout",
          "output_type": "stream",
          "text": [
            "5\n",
            "5\n"
          ]
        }
      ],
      "source": [
        "import math\n",
        "x = math.ceil(4.2)\n",
        "print(x)\n",
        "print(math.ceil(1 + 3.8))"
      ]
    },
    {
      "cell_type": "code",
      "execution_count": null,
      "metadata": {
        "colab": {
          "base_uri": "https://localhost:8080/"
        },
        "id": "xO1dlx89XTEw",
        "outputId": "a0a72c57-bb41-452d-c8a1-e9065c853e0e"
      },
      "outputs": [
        {
          "name": "stdout",
          "output_type": "stream",
          "text": [
            "4\n"
          ]
        }
      ],
      "source": [
        "from math import ceil\n",
        "x = 7/2\n",
        "y = ceil(x)\n",
        "print(y)"
      ]
    },
    {
      "cell_type": "code",
      "execution_count": null,
      "metadata": {
        "colab": {
          "base_uri": "https://localhost:8080/"
        },
        "id": "Qopfqk-vXxLT",
        "outputId": "3f0b2345-831c-4e8c-f60d-4aa380c38c62"
      },
      "outputs": [
        {
          "name": "stdout",
          "output_type": "stream",
          "text": [
            "4\n"
          ]
        }
      ],
      "source": [
        "import math\n",
        "y = math.ceil(7/2)\n",
        "print(y)"
      ]
    },
    {
      "cell_type": "markdown",
      "metadata": {
        "id": "5YpXk2yWYOMM"
      },
      "source": [
        "#### Some of the functions dealing with numbers - int(), round() and abs() (absolute value aka modulus) - are built-in and don't require any imports.![Screenshot_20221218_185524.png](data:image/png;base64,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)"
      ]
    },
    {
      "cell_type": "markdown",
      "metadata": {
        "id": "oqIiky68aW0y"
      },
      "source": [
        "# Last digit of integer\n",
        "# Statement\n",
        "### Given an integer number, print its last digit"
      ]
    },
    {
      "cell_type": "code",
      "execution_count": null,
      "metadata": {
        "colab": {
          "base_uri": "https://localhost:8080/"
        },
        "id": "nPlrQ8ENRSxV",
        "outputId": "f73c32eb-5fb1-4601-9eb3-2e4f2c41e2cf"
      },
      "outputs": [
        {
          "name": "stdout",
          "output_type": "stream",
          "text": [
            "45\n",
            "5\n"
          ]
        }
      ],
      "source": [
        "r = int(input())\n",
        "e = r % 10\n",
        "print(e)"
      ]
    },
    {
      "cell_type": "code",
      "execution_count": null,
      "metadata": {
        "colab": {
          "base_uri": "https://localhost:8080/"
        },
        "id": "s1pqxejXRVCs",
        "outputId": "ddbc4d86-29f0-45b1-89c8-6b33bcc7f1e3"
      },
      "outputs": [
        {
          "name": "stdout",
          "output_type": "stream",
          "text": [
            "Please enter any number: 45\n"
          ]
        }
      ],
      "source": [
        "# Python program to find the last digit in a number\n",
        "number = int(input(\"Please enter any number: \"))\n",
        "lastdigit  = number % 10\n"
      ]
    },
    {
      "cell_type": "code",
      "execution_count": null,
      "metadata": {
        "colab": {
          "base_uri": "https://localhost:8080/"
        },
        "id": "fkZnj7CWOg2Y",
        "outputId": "bc3f29d1-1fca-41a9-cdb7-6855f33f564a"
      },
      "outputs": [
        {
          "name": "stdout",
          "output_type": "stream",
          "text": [
            "568\n",
            "6\n"
          ]
        }
      ],
      "source": [
        "num  = int(input())\n",
        "digit = num//10%10\n",
        "print(digit)"
      ]
    },
    {
      "cell_type": "code",
      "execution_count": null,
      "metadata": {
        "colab": {
          "base_uri": "https://localhost:8080/"
        },
        "id": "zbhcvnzhOyrd",
        "outputId": "f3fba6d3-da2d-496c-cbce-0d873c726af2"
      },
      "outputs": [
        {
          "name": "stdout",
          "output_type": "stream",
          "text": [
            "456\n",
            "5\n"
          ]
        }
      ],
      "source": [
        "n = int(input())\n",
        "print(n//10%10)"
      ]
    },
    {
      "cell_type": "markdown",
      "metadata": {
        "id": "gQ9MRhlYPKe_"
      },
      "source": [
        "## Sum of digits\n",
        "## Statement\n",
        "Give a three digit number. Find the sum of its digits."
      ]
    },
    {
      "cell_type": "code",
      "execution_count": null,
      "metadata": {
        "colab": {
          "base_uri": "https://localhost:8080/"
        },
        "id": "DLbUiqBGPfqw",
        "outputId": "53ec5144-27e3-4786-e74e-d59bbc14ef70"
      },
      "outputs": [
        {
          "name": "stdout",
          "output_type": "stream",
          "text": [
            "156\n",
            "12\n"
          ]
        }
      ],
      "source": [
        "n = int(input())\n",
        "a = n //100\n",
        "b = n //10 %10\n",
        "c = n %10\n",
        "print(a + b+ c)\n",
        "\n",
        "\n"
      ]
    },
    {
      "cell_type": "markdown",
      "metadata": {
        "id": "K_aN5hUSVyPN"
      },
      "source": [
        "## Fractional part\n",
        "## Statement\n",
        "Given a positive real number, print its fractional part."
      ]
    },
    {
      "cell_type": "code",
      "execution_count": null,
      "metadata": {
        "colab": {
          "base_uri": "https://localhost:8080/"
        },
        "id": "l6m5wiK-U0e6",
        "outputId": "e7c302d5-1d96-415c-adfe-ce5727c73ecf"
      },
      "outputs": [
        {
          "name": "stdout",
          "output_type": "stream",
          "text": [
            "45.265\n",
            "0.26500000000000057\n"
          ]
        }
      ],
      "source": [
        "n = float(input())\n",
        "a = int(n)\n",
        "b = n - a\n",
        "print(b)"
      ]
    },
    {
      "cell_type": "markdown",
      "metadata": {
        "id": "G7DhXs7FWIlD"
      },
      "source": [
        "## First digit after decimal point\n",
        "## Statement\n",
        "Given a positive real number, print its first digit to the right of the decimal point"
      ]
    },
    {
      "cell_type": "code",
      "execution_count": null,
      "metadata": {
        "colab": {
          "base_uri": "https://localhost:8080/"
        },
        "id": "ZEMELRWYWgCf",
        "outputId": "564c3932-348a-4e47-d06b-93fb842e2a0d"
      },
      "outputs": [
        {
          "name": "stdout",
          "output_type": "stream",
          "text": [
            "456\n",
            "0\n"
          ]
        }
      ],
      "source": [
        "n = float(input())\n",
        "a = int(n * 10) %10\n",
        "print(a)"
      ]
    },
    {
      "cell_type": "markdown",
      "metadata": {
        "id": "XOZo0KlmY5q6"
      },
      "source": [
        "\n",
        "##Car route\n",
        "##Statement\n",
        "A car can cover distance of N kilometers per day. How many days will it take to cover a route of length M kilometers? The program gets two numbers: N and M.\n"
      ]
    },
    {
      "cell_type": "code",
      "execution_count": null,
      "metadata": {
        "colab": {
          "base_uri": "https://localhost:8080/"
        },
        "id": "P4O1QOXUu74t",
        "outputId": "e664f543-8eb4-4364-b9f5-7108b9336791"
      },
      "outputs": [
        {
          "name": "stdout",
          "output_type": "stream",
          "text": [
            "700\n",
            "2100\n",
            "3\n"
          ]
        }
      ],
      "source": [
        "import math\n",
        "N = int(input())\n",
        "M = int(input())\n",
        "print(math.ceil(M/N))\n"
      ]
    },
    {
      "cell_type": "markdown",
      "metadata": {
        "id": "JhfvbwLgwW48"
      },
      "source": [
        "## Digital clock\n",
        "## Statement\n",
        "Given the integer N - the number of minutes that is passed since midnight - how many hours and minutes are displayed on the 24h digital clock?\n",
        "The program should print two numbers: the number of hours (between 0 and 23) and the number of minutes (between 0 and 59).\n",
        "\n",
        "For example, if N = 150, then 150 minutes have passed since midnight - i.e. now is 2:30 am. So the program should print 2 30."
      ]
    },
    {
      "cell_type": "code",
      "execution_count": null,
      "metadata": {
        "colab": {
          "base_uri": "https://localhost:8080/"
        },
        "id": "ZhSEiSrewcqf",
        "outputId": "472293d7-56a6-4b2b-c2f7-4af2c1dcd4e5"
      },
      "outputs": [
        {
          "name": "stdout",
          "output_type": "stream",
          "text": [
            "75\n",
            "1 15\n"
          ]
        }
      ],
      "source": [
        "N = int(input())\n",
        "a =N//60  \n",
        "b =N% 60\n",
        "print(a,b)"
      ]
    },
    {
      "cell_type": "markdown",
      "metadata": {
        "id": "d4u2n5H05XDE"
      },
      "source": [
        "##Total cost\n",
        "## Statement\n",
        "A cupcake costs A dollars and B cents. Determine, how many dollars and cents should one pay for N cupcakes. A program gets three numbers: A, B, N. It should print two numbers: total cost in dollars and cents.\n",
        "Advertising by G"
      ]
    },
    {
      "cell_type": "code",
      "execution_count": null,
      "metadata": {
        "colab": {
          "base_uri": "https://localhost:8080/"
        },
        "id": "zQvOq7hJxsuf",
        "outputId": "ce5745b5-026b-4d03-8b58-518db3cb05b2"
      },
      "outputs": [
        {
          "name": "stdout",
          "output_type": "stream",
          "text": [
            "2\n",
            "50\n",
            "4\n",
            "10 0\n"
          ]
        }
      ],
      "source": [
        "A = int(input())\n",
        "B = int(input())\n",
        "N = int(input())\n",
        "cost = (A * 100 + B)*N\n",
        "print(cost//100, cost%100)"
      ]
    },
    {
      "cell_type": "markdown",
      "metadata": {
        "id": "e822Z1A-9OTv"
      },
      "source": [
        "## Clock face - 1\n",
        "## Statement\n",
        "H hours, M minutes and S seconds are passed since the midnight (0 ≤ H < 12, 0 ≤ M < 60, 0 ≤ S < 60). Determine the angle (in degrees) of the hour hand on the clock face right now."
      ]
    },
    {
      "cell_type": "code",
      "execution_count": null,
      "metadata": {
        "colab": {
          "base_uri": "https://localhost:8080/"
        },
        "id": "ik3CWOTm5eyc",
        "outputId": "698b6bc1-db00-4178-f528-82e775db63f0"
      },
      "outputs": [
        {
          "name": "stdout",
          "output_type": "stream",
          "text": [
            "1\n",
            "2\n",
            "6\n",
            "31.05\n"
          ]
        }
      ],
      "source": [
        "H = int(input())\n",
        "M = int(input())\n",
        "S = int(input())\n",
        "angle = (H + M/60 + S/3600)*360/12\n",
        "print(angle) "
      ]
    },
    {
      "cell_type": "markdown",
      "metadata": {
        "id": "Q7jFyHGn9Bha"
      },
      "source": [
        "## Clock face-2\n",
        "## statement\n",
        "Hour hand turned by α degrees since the midnight. Determine the angle by which minute hand turned since the start of the current hour. Input and output in this problems are floating-point numbers.\n",
        "\n"
      ]
    },
    {
      "cell_type": "code",
      "execution_count": null,
      "metadata": {
        "id": "b3ts-OSUBihg"
      },
      "outputs": [],
      "source": [
        "# alpha = float(input())\n",
        "# print(alpha % 30 * 12)"
      ]
    },
    {
      "cell_type": "markdown",
      "metadata": {
        "id": "x76FU1e4CMkD"
      },
      "source": [
        "# Lesson 3\n",
        "## Conditions: if, then, else"
      ]
    },
    {
      "cell_type": "code",
      "execution_count": null,
      "metadata": {
        "colab": {
          "base_uri": "https://localhost:8080/"
        },
        "id": "GCvKzjVUCW1k",
        "outputId": "bafead25-d67f-42c4-b1ad-28f8854d65c7"
      },
      "outputs": [
        {
          "name": "stdout",
          "output_type": "stream",
          "text": [
            "0\n",
            "0\n"
          ]
        }
      ],
      "source": [
        "x = int(input())\n",
        "if x >0:\n",
        "  print(x)\n",
        "else:\n",
        "  print(-x)  "
      ]
    },
    {
      "cell_type": "code",
      "execution_count": null,
      "metadata": {
        "colab": {
          "base_uri": "https://localhost:8080/"
        },
        "id": "n1PviDvvDCGg",
        "outputId": "c9f875b4-f760-46be-f211-2b023d0fd420"
      },
      "outputs": [
        {
          "name": "stdout",
          "output_type": "stream",
          "text": [
            "-45\n",
            "45\n"
          ]
        }
      ],
      "source": [
        "x = int(input())\n",
        "print(abs(x))"
      ]
    },
    {
      "cell_type": "markdown",
      "metadata": {
        "id": "hmpJA6p-Fd5e"
      },
      "source": [
        "## Nested conditions"
      ]
    },
    {
      "cell_type": "code",
      "execution_count": null,
      "metadata": {
        "colab": {
          "base_uri": "https://localhost:8080/"
        },
        "id": "jlvdSjYKDbj7",
        "outputId": "8d681ad4-0cee-4b68-87b2-17b3e0c3bc69"
      },
      "outputs": [
        {
          "name": "stdout",
          "output_type": "stream",
          "text": [
            "45\n",
            "45\n",
            "Quadrant 1\n"
          ]
        }
      ],
      "source": [
        "x  = int(input())\n",
        "y  = int(input())\n",
        "if x > 0:\n",
        "  if y >0:\n",
        "    print(\"Quadrant 1\")\n",
        "  else:\n",
        "    print(\"Quadrant 4\")\n",
        "else:\n",
        "  if y >0:      \n",
        "    print(\"Quadrant 2\")\n",
        "  else:\n",
        "    print(\"Quadrant 3\")        "
      ]
    },
    {
      "cell_type": "markdown",
      "metadata": {
        "id": "CFbBgURXFaNG"
      },
      "source": [
        "## Comparison operators\n",
        "\n",
        "The comparison operators in Python may be grouped together like this: a == b == c or x <= y >= 10. It's a rare thing among programming languages."
      ]
    },
    {
      "cell_type": "code",
      "execution_count": null,
      "metadata": {
        "colab": {
          "base_uri": "https://localhost:8080/"
        },
        "id": "HRdv2INgFq6p",
        "outputId": "16d50e9e-195b-4688-da78-7e08369fb8b4"
      },
      "outputs": [
        {
          "name": "stdout",
          "output_type": "stream",
          "text": [
            "True\n",
            "False\n",
            "True\n",
            "False\n",
            "True\n"
          ]
        }
      ],
      "source": [
        "print(bool(-10))\n",
        "print(bool(0))\n",
        "print(bool(10))\n",
        "print(bool(''))\n",
        "print(bool('abc'))"
      ]
    },
    {
      "cell_type": "code",
      "execution_count": null,
      "metadata": {
        "colab": {
          "base_uri": "https://localhost:8080/"
        },
        "id": "eE8YmTkNGg4E",
        "outputId": "6b639517-13fe-400d-9212-d004162b98a8"
      },
      "outputs": [
        {
          "name": "stdout",
          "output_type": "stream",
          "text": [
            "74\n",
            "10\n",
            "YES\n"
          ]
        }
      ],
      "source": [
        "a = int(input())\n",
        "b = int(input())\n",
        "if a %10 ==0  or b%10 ==0:\n",
        "  print('YES')\n",
        "else:\n",
        "  print('NO')  \n"
      ]
    },
    {
      "cell_type": "code",
      "execution_count": null,
      "metadata": {
        "colab": {
          "base_uri": "https://localhost:8080/"
        },
        "id": "hKNdePx-IJKI",
        "outputId": "8f9bd797-20b9-4ac1-909d-4b7b50e583f8"
      },
      "outputs": [
        {
          "name": "stdout",
          "output_type": "stream",
          "text": [
            "45\n",
            "45\n",
            "NO\n"
          ]
        }
      ],
      "source": [
        "a = int(input())\n",
        "b = int(input())\n",
        "if a > 0 and not b >0:   # a is positive and b is non-positive\n",
        "  print('YES')\n",
        "else:\n",
        "  print('NO')  \n"
      ]
    },
    {
      "cell_type": "code",
      "execution_count": null,
      "metadata": {
        "colab": {
          "base_uri": "https://localhost:8080/"
        },
        "id": "qwRbnZ2CH99P",
        "outputId": "cf2a64c4-161c-4d3c-f5d3-f3e67cdebcba"
      },
      "outputs": [
        {
          "name": "stdout",
          "output_type": "stream",
          "text": [
            "45\n",
            "45\n",
            "Quadrant I\n"
          ]
        }
      ],
      "source": [
        "x = int(input())\n",
        "y = int(input())\n",
        "if x >0 and y>0:\n",
        "  print(\"Quadrant I\")\n",
        "elif x >0 and y <0:\n",
        "  print(\"Quadrant IV\")\n",
        "elif y>0:\n",
        "  print(\"Quadrant II\")\n",
        "else:\n",
        "  print(\"Quadrant III\")      "
      ]
    },
    {
      "cell_type": "code",
      "execution_count": null,
      "metadata": {
        "colab": {
          "base_uri": "https://localhost:8080/"
        },
        "id": "tX4cOrF7KBrI",
        "outputId": "a7a49225-1217-4af8-fe4b-c1a386692d5c"
      },
      "outputs": [
        {
          "name": "stdout",
          "output_type": "stream",
          "text": [
            "46\n",
            "48\n",
            "46\n"
          ]
        }
      ],
      "source": [
        "# Minimum of 2 numbers\n",
        "a = int(input())\n",
        "b = int(input())\n",
        "if a > b:\n",
        "  print(b)\n",
        "else:\n",
        "  print(a)  "
      ]
    },
    {
      "cell_type": "markdown",
      "metadata": {
        "id": "OQx6ceRUKoxk"
      },
      "source": [
        "## Sign function\n",
        "## Statement\n",
        "For the given integer X print 1 if it's positive, -1 if it's negative, or 0 if it's equal to zero.\n",
        "Try to use the cascade if-elif-else for it."
      ]
    },
    {
      "cell_type": "code",
      "execution_count": null,
      "metadata": {
        "colab": {
          "base_uri": "https://localhost:8080/"
        },
        "id": "nb8r12vWKmqJ",
        "outputId": "0faf53d0-0fdd-40d5-d4be-873bd7c286ef"
      },
      "outputs": [
        {
          "name": "stdout",
          "output_type": "stream",
          "text": [
            "45\n",
            "1\n"
          ]
        }
      ],
      "source": [
        "x = int(input())\n",
        "if x >0:\n",
        "  print(1)\n",
        "elif x <0:\n",
        "  print(-1)\n",
        "else:\n",
        "  print(0)    "
      ]
    },
    {
      "cell_type": "markdown",
      "metadata": {
        "id": "PIZiWqme0Zjx"
      },
      "source": [
        "## Minimum of three numbers\n",
        "## Statement\n",
        "Given three integers, print the smallest value."
      ]
    },
    {
      "cell_type": "code",
      "execution_count": null,
      "metadata": {
        "colab": {
          "base_uri": "https://localhost:8080/"
        },
        "id": "iVuHjb0nMiev",
        "outputId": "9b3f8135-f979-45dc-aeef-ff58724fc011"
      },
      "outputs": [
        {
          "name": "stdout",
          "output_type": "stream",
          "text": [
            "45\n",
            "48\n",
            "47\n",
            "45\n"
          ]
        }
      ],
      "source": [
        "a = int(input())\n",
        "b = int(input())\n",
        "c = int(input())\n",
        "if a < b:\n",
        "  if a < c:\n",
        "    print(a)\n",
        "  else:\n",
        "    print(c) \n",
        "else:\n",
        "  if b<c:\n",
        "    print(b)\n",
        "  else:\n",
        "    print(c)\n"
      ]
    },
    {
      "cell_type": "code",
      "execution_count": null,
      "metadata": {
        "colab": {
          "base_uri": "https://localhost:8080/"
        },
        "id": "7UiZ6faFN9Sk",
        "outputId": "b1c41306-a009-4bdb-e57e-d425c56a0693"
      },
      "outputs": [
        {
          "name": "stdout",
          "output_type": "stream",
          "text": [
            "45\n",
            "56\n",
            "78\n",
            "45\n"
          ]
        }
      ],
      "source": [
        "a = int(input())\n",
        "b = int(input())\n",
        "c = int(input())\n",
        "if b>=a <=c:\n",
        "  print(a)\n",
        "elif a >= b <=c:\n",
        "  print(b)\n",
        "else:\n",
        "  print(c)      "
      ]
    },
    {
      "cell_type": "markdown",
      "metadata": {
        "id": "g0bcdzZV2MHT"
      },
      "source": [
        "## Equal numbers\n",
        "## Statement\n",
        "Given three integers, determine how many of them are equal to each other. The program must print one of these numbers: 3 (if all are the same), 2 (if two of them are equal to each other and the third is different) or 0 (if all numbers are different)."
      ]
    },
    {
      "cell_type": "code",
      "execution_count": null,
      "metadata": {
        "colab": {
          "base_uri": "https://localhost:8080/"
        },
        "id": "YO83fo1T0KEz",
        "outputId": "84d9268e-0ea3-43c9-f996-55dded1af9bb"
      },
      "outputs": [
        {
          "name": "stdout",
          "output_type": "stream",
          "text": [
            "56\n",
            "56\n",
            "56\n",
            "3\n"
          ]
        }
      ],
      "source": [
        "a = int(input())\n",
        "b = int(input())\n",
        "c = int(input())\n",
        "if a ==b == c:\n",
        "  print(3)\n",
        "elif a ==b or a ==c or b ==c:\n",
        "  print(2) \n",
        "else:\n",
        "  print(0)\n"
      ]
    },
    {
      "cell_type": "markdown",
      "metadata": {
        "id": "Wq6FNLbW5NKE"
      },
      "source": [
        "## Rook move\n",
        "## Statement\n",
        "Chess rook moves horizontally or vertically. Given two different cells of the chessboard, determine whether a rook can go from the first cell to the second in one move.\n",
        "The program receives the input of four numbers from 1 to 8, each specifying the column and row number, first two - for the first cell, and then the last two - for the second cell. The program should output YES if a rook can go from the first cell to the second in one move, or NO otherwise."
      ]
    },
    {
      "cell_type": "code",
      "execution_count": null,
      "metadata": {
        "colab": {
          "base_uri": "https://localhost:8080/"
        },
        "id": "vLWH1tKU152O",
        "outputId": "1bc672cd-c6fb-41c1-fdbe-3b7b38cbd495"
      },
      "outputs": [
        {
          "name": "stdout",
          "output_type": "stream",
          "text": [
            "4\n",
            "5\n",
            "4\n",
            "7\n",
            "YES\n"
          ]
        }
      ],
      "source": [
        "acol  = int(input())\n",
        "arow  = int(input())\n",
        "bcol  = int(input())\n",
        "brow  = int(input())\n",
        "if acol == bcol or arow==brow:\n",
        "  print(\"YES\")\n",
        "else:\n",
        "  print(\"NO\")  "
      ]
    },
    {
      "cell_type": "markdown",
      "metadata": {
        "id": "ui5-1Bhq40Xz"
      },
      "source": [
        "## Chess board - same color\n",
        "## Statement\n",
        "Given two cells of a chessboard. If they are painted in one color, print the word YES, and if in a different color - NO.\n",
        "The program receives the input of four numbers from 1 to 8, each specifying the column and row number, first two - for the first cell, and then the last two - for the second cell."
      ]
    },
    {
      "cell_type": "code",
      "execution_count": null,
      "metadata": {
        "colab": {
          "base_uri": "https://localhost:8080/"
        },
        "id": "qY-yIt7-6rCj",
        "outputId": "313fd7b4-446a-4e70-e1fc-75e70024e0bc"
      },
      "outputs": [
        {
          "name": "stdout",
          "output_type": "stream",
          "text": [
            "1\n",
            "1\n",
            "2\n",
            "6\n",
            "YES\n"
          ]
        }
      ],
      "source": [
        "acol = int(input())\n",
        "arow = int(input())\n",
        "bcol = int(input())\n",
        "brow = int(input())\n",
        "if (acol + arow+ bcol + brow) % 2 == 0:\n",
        "  print(\"YES\")\n",
        "else:\n",
        "  print(\"NO\")  "
      ]
    },
    {
      "cell_type": "markdown",
      "metadata": {
        "id": "chmBDHfBBsKa"
      },
      "source": [
        "![Screenshot_20221219_162543.png](data:image/png;base64,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)"
      ]
    },
    {
      "cell_type": "code",
      "execution_count": null,
      "metadata": {
        "colab": {
          "base_uri": "https://localhost:8080/"
        },
        "id": "2luoUqp0BzFA",
        "outputId": "b9bed98d-0de9-4331-b797-565226d7efbb"
      },
      "outputs": [
        {
          "name": "stdout",
          "output_type": "stream",
          "text": [
            "4\n",
            "5\n",
            "4\n",
            "6\n",
            "NO\n"
          ]
        }
      ],
      "source": [
        "acol = int(input())\n",
        "arow = int(input())\n",
        "bcol = int(input())\n",
        "brow = int(input())\n",
        "\n",
        "if (bcol == acol + 1) or (bcol == acol - 1):\n",
        "  if (brow == arow +1) or (brow == arow -1):\n",
        "    print(\"YES\")\n",
        "  else:\n",
        "    print(\"NO\")  \n",
        "else:\n",
        "  print(\"NO\")    "
      ]
    },
    {
      "cell_type": "markdown",
      "metadata": {
        "id": "tat3JBTlbwmi"
      },
      "source": [
        "## Chocolate bar\n",
        "## Statement\n",
        "Chocolate bar has the form of a rectangle divided into n×m portions. Chocolate bar can be split into two rectangular parts by breaking it along a selected straight line on its pattern. Determine whether it is possible to split it so that one of the parts will have exactly k squares.\n",
        "The program reads three integers: n, m, and k. It should print YES or NO."
      ]
    },
    {
      "cell_type": "code",
      "execution_count": null,
      "metadata": {
        "colab": {
          "base_uri": "https://localhost:8080/"
        },
        "id": "nFPA_RyDbgcA",
        "outputId": "39a5b542-d6bf-4fd1-dfa4-7e188ffcd781"
      },
      "outputs": [
        {
          "name": "stdout",
          "output_type": "stream",
          "text": [
            "7\n",
            "1\n",
            "99\n",
            "NO\n"
          ]
        }
      ],
      "source": [
        "n = int(input())\n",
        "m = int(input())\n",
        "k = int(input())\n",
        "if k < n*m:\n",
        "  if k %n == 0 or k %m ==0:\n",
        "    print(\"YES\")\n",
        "  else:\n",
        "    print(\"NO\")\n",
        "else:\n",
        "  print(\"NO\")      "
      ]
    },
    {
      "cell_type": "code",
      "execution_count": null,
      "metadata": {
        "colab": {
          "base_uri": "https://localhost:8080/"
        },
        "id": "STCkOvC4cODx",
        "outputId": "872f19d2-3e42-4f6b-84a2-32f6dd296cc3"
      },
      "outputs": [
        {
          "name": "stdout",
          "output_type": "stream",
          "text": [
            "4\n",
            "2\n",
            "6\n",
            "yes\n"
          ]
        }
      ],
      "source": [
        "n = int(input())\n",
        "m = int(input())\n",
        "k = int(input())\n",
        "if k < n*m and ((k %n == 0) or (k%m ==0)):\n",
        "  print('yes')\n",
        "else:\n",
        "  print('NO')  "
      ]
    },
    {
      "cell_type": "markdown",
      "metadata": {
        "id": "2n7iXHyKf75d"
      },
      "source": [
        "## Leap year\n",
        "## Statement\n",
        "Given the year number. You need to check if this year is a leap year. If it is, print LEAP, otherwise print COMMON.\n",
        "The rules in Gregorian calendar are as follows:\n",
        "\n",
        "a year is a leap year if its number is exactly divisible by 4 and is not exactly divisible by 100\n",
        "a year is always a leap year if its number is exactly divisible by 400\n",
        "Warning. The words LEAP and COMMON should be printed all caps.\n",
        "\n"
      ]
    },
    {
      "cell_type": "code",
      "execution_count": null,
      "metadata": {
        "colab": {
          "base_uri": "https://localhost:8080/"
        },
        "id": "_Mn7V85mcvBc",
        "outputId": "d7c432cf-0595-4d6a-cf99-9c68a89bf296"
      },
      "outputs": [
        {
          "name": "stdout",
          "output_type": "stream",
          "text": [
            "year: 1800\n",
            "COMMON\n"
          ]
        }
      ],
      "source": [
        "n = int(input(\"year: \"))\n",
        "if n % 4 == 0 and n % 100 != 0 or n % 400 ==0:\n",
        "  print(\"LEAP\")\n",
        "else:\n",
        "  print(\"COMMON\")\n"
      ]
    },
    {
      "cell_type": "markdown",
      "metadata": {
        "id": "DLMo8zzfgDCk"
      },
      "source": [
        "# Lesson 4\n",
        "##For loop with range"
      ]
    },
    {
      "cell_type": "code",
      "execution_count": null,
      "metadata": {
        "colab": {
          "base_uri": "https://localhost:8080/"
        },
        "id": "57LMwdzvjb52",
        "outputId": "28b88911-4043-4872-e6ab-19be5cc913f5"
      },
      "outputs": [
        {
          "name": "stdout",
          "output_type": "stream",
          "text": [
            "h\n",
            "e\n",
            "l\n",
            "l\n",
            "o\n"
          ]
        }
      ],
      "source": [
        "for character in 'hello':\n",
        "  print(character)"
      ]
    },
    {
      "cell_type": "code",
      "execution_count": null,
      "metadata": {
        "colab": {
          "base_uri": "https://localhost:8080/"
        },
        "id": "Ww5pryG_jo8p",
        "outputId": "7cba1c98-ac0a-41ff-90f8-a8988da596a6"
      },
      "outputs": [
        {
          "name": "stdout",
          "output_type": "stream",
          "text": [
            "5 25\n",
            "6 36\n",
            "7 49\n",
            "end of the loop\n"
          ]
        }
      ],
      "source": [
        "for i in range(5,8):\n",
        "  print(i, i**2)\n",
        "print('end of the loop')  "
      ]
    },
    {
      "cell_type": "code",
      "execution_count": null,
      "metadata": {
        "colab": {
          "base_uri": "https://localhost:8080/"
        },
        "id": "H7YuqEPyj7x2",
        "outputId": "426349a3-58f8-42c7-8d6b-cb1272d1f5fa"
      },
      "outputs": [
        {
          "name": "stdout",
          "output_type": "stream",
          "text": [
            "0\n",
            "1\n",
            "2\n"
          ]
        }
      ],
      "source": [
        "for i in range(3):\n",
        "  print(i)"
      ]
    },
    {
      "cell_type": "code",
      "execution_count": null,
      "metadata": {
        "colab": {
          "base_uri": "https://localhost:8080/"
        },
        "id": "bhQWpKMykdCv",
        "outputId": "9d855e2d-1329-4de3-fd95-4c8cc9538a29"
      },
      "outputs": [
        {
          "name": "stdout",
          "output_type": "stream",
          "text": [
            "Hello, world!\n",
            "Hello, world!\n",
            "Hello, world!\n",
            "Hello, world!\n"
          ]
        }
      ],
      "source": [
        "for i in range(2**2):\n",
        "  print('Hello, world!')"
      ]
    },
    {
      "cell_type": "code",
      "execution_count": null,
      "metadata": {
        "id": "RhOTXKfLk01B"
      },
      "outputs": [],
      "source": [
        "for i in range(-5):      #empty sequence\n",
        "  print('Hello, world!')"
      ]
    },
    {
      "cell_type": "code",
      "execution_count": null,
      "metadata": {
        "colab": {
          "base_uri": "https://localhost:8080/"
        },
        "id": "nCQhStGAl4CE",
        "outputId": "121a778d-071b-44d2-aa3f-181fc6e10a2e"
      },
      "outputs": [
        {
          "name": "stdout",
          "output_type": "stream",
          "text": [
            "15\n"
          ]
        }
      ],
      "source": [
        "result = 0\n",
        "n = 5\n",
        "for i in range(1, n+1):\n",
        "  result += i\n",
        "print(result)  "
      ]
    },
    {
      "cell_type": "markdown",
      "metadata": {
        "id": "05GdDmKPmIq-"
      },
      "source": [
        "### range(start_value, end_value, step)"
      ]
    },
    {
      "cell_type": "code",
      "execution_count": null,
      "metadata": {
        "colab": {
          "base_uri": "https://localhost:8080/"
        },
        "id": "-CxApQLgm6m4",
        "outputId": "f8f105ef-3b16-43b4-b919-2a4f2e548d68"
      },
      "outputs": [
        {
          "name": "stdout",
          "output_type": "stream",
          "text": [
            "10\n",
            "8\n",
            "6\n",
            "4\n",
            "2\n"
          ]
        }
      ],
      "source": [
        "for i in range(10, 0, -2):\n",
        "  print(i)"
      ]
    },
    {
      "cell_type": "code",
      "execution_count": null,
      "metadata": {
        "colab": {
          "base_uri": "https://localhost:8080/"
        },
        "id": "O-9y_IJynnrT",
        "outputId": "aa593b03-cc30-4fcc-94fa-bc2140b22afd"
      },
      "outputs": [
        {
          "name": "stdout",
          "output_type": "stream",
          "text": [
            "1 2 3\n",
            "4 5 6\n",
            "1,2,3.4,5,6.\n",
            "123 -- 4 * 5 * 6."
          ]
        }
      ],
      "source": [
        "print(1,2,3)\n",
        "print(4,5,6)\n",
        "print(1,2,3, sep= ',', end ='.')\n",
        "print(4,5,6, sep=',', end = '.')\n",
        "print()\n",
        "print(1,2,3, sep='', end = ' -- ')\n",
        "print(4,5,6, sep=' * ', end = '.')"
      ]
    },
    {
      "cell_type": "code",
      "execution_count": null,
      "metadata": {
        "colab": {
          "base_uri": "https://localhost:8080/"
        },
        "id": "cU-eU88opEEu",
        "outputId": "5fc13c51-5e98-4e51-9616-f03c534d9536"
      },
      "outputs": [
        {
          "name": "stdout",
          "output_type": "stream",
          "text": [
            "1\n",
            "10\n",
            "1\n"
          ]
        }
      ],
      "source": [
        "A = int(input())\n",
        "B = int(input())\n",
        "for i in range(A,B+1):\n",
        "  print(i)"
      ]
    },
    {
      "cell_type": "markdown",
      "metadata": {
        "id": "S31XFOh22ajq"
      },
      "source": [
        "## Series - 2\n",
        "## Statement\n",
        "Given two integers A and B. Print all numbers from A to B inclusively, in ascending order, if A < B, or in descending order, if A ≥ B."
      ]
    },
    {
      "cell_type": "code",
      "execution_count": null,
      "metadata": {
        "colab": {
          "base_uri": "https://localhost:8080/"
        },
        "id": "XrNPur5RxZYD",
        "outputId": "8cb729f0-4985-4b30-e877-6d1f9dd61d49"
      },
      "outputs": [
        {
          "name": "stdout",
          "output_type": "stream",
          "text": [
            "179\n",
            "179\n",
            "179 "
          ]
        }
      ],
      "source": [
        "A = int(input())\n",
        "B = int(input())\n",
        "if A < B:\n",
        "  for i in range(A,B+1, +1):\n",
        "    print(i,sep=' ', end = ' ')\n",
        "else:\n",
        "  for i in range(A, B-1, -1):    \n",
        "    print(i, sep=' ', end = ' ')    "
      ]
    },
    {
      "cell_type": "markdown",
      "metadata": {
        "id": "NX_0dxo-6GmP"
      },
      "source": [
        "## Sum of ten numbers\n",
        "## Statement\n",
        "10 numbers are given in the input. Read them and print their sum. Use as few variables as you can."
      ]
    },
    {
      "cell_type": "code",
      "execution_count": null,
      "metadata": {
        "colab": {
          "base_uri": "https://localhost:8080/"
        },
        "id": "5t6umukn2jt4",
        "outputId": "182e059f-998e-475a-b480-38ac7f07d3e7"
      },
      "outputs": [
        {
          "name": "stdout",
          "output_type": "stream",
          "text": [
            "1\n",
            "2\n",
            "3\n",
            "4\n",
            "5\n",
            "6\n",
            "7\n",
            "8\n",
            "9\n",
            "10\n",
            "55\n"
          ]
        }
      ],
      "source": [
        "res = 0\n",
        "n = 10\n",
        "for i in range(1,n+1):\n",
        "  print(i)\n",
        "  res +=i\n",
        "print(res)  \n"
      ]
    },
    {
      "cell_type": "code",
      "execution_count": null,
      "metadata": {
        "colab": {
          "base_uri": "https://localhost:8080/"
        },
        "id": "Mo1TeDwb5MIs",
        "outputId": "8674a466-f15b-4abd-8e2b-820789b09517"
      },
      "outputs": [
        {
          "name": "stdout",
          "output_type": "stream",
          "text": [
            "45\n",
            "45\n",
            "45\n",
            "48\n",
            "86\n",
            "78\n",
            "41\n",
            "12\n",
            "16\n",
            "54\n",
            "413\n"
          ]
        }
      ],
      "source": [
        "a1 = int(input())\n",
        "a2 = int(input())\n",
        "a3 = int(input())\n",
        "a4 = int(input())\n",
        "a5 = int(input())\n",
        "a6 = int(input())\n",
        "a7 = int(input())\n",
        "a8 = int(input())\n",
        "a9 = int(input())\n",
        "a10 = int(input())\n",
        "print(a1+a2+a3+a4+a5+a6+a7+a8+a9+a10)"
      ]
    },
    {
      "cell_type": "code",
      "execution_count": null,
      "metadata": {
        "colab": {
          "base_uri": "https://localhost:8080/"
        },
        "id": "dkz3a6Ai6Djg",
        "outputId": "c335b5f2-8130-42c9-9c4d-ab587bc809a2"
      },
      "outputs": [
        {
          "name": "stdout",
          "output_type": "stream",
          "text": [
            "45\n",
            "56\n",
            "48\n",
            "12\n",
            "46\n",
            "48\n",
            "86\n",
            "47\n",
            "96\n",
            "86\n",
            "570\n"
          ]
        }
      ],
      "source": [
        "res = 0\n",
        "for i in range(10):\n",
        "  res +=int(input())\n",
        "print(res)  "
      ]
    },
    {
      "cell_type": "markdown",
      "metadata": {
        "id": "2QZg_Fbo6mpb"
      },
      "source": [
        "##Sum of N numbers\n",
        "##Statement\n",
        "N numbers are given in the input. Read them and print their sum.\n",
        "The first line of input contains the integer N, which is the number of integers to follow. Each of the next N lines contains one integer. Print the sum of these N integers."
      ]
    },
    {
      "cell_type": "code",
      "execution_count": null,
      "metadata": {
        "colab": {
          "base_uri": "https://localhost:8080/"
        },
        "id": "cqMccagj7mSP",
        "outputId": "6b9bbf8b-035b-4edc-b481-28ddd4534143"
      },
      "outputs": [
        {
          "name": "stdout",
          "output_type": "stream",
          "text": [
            "Numbers: 4\n",
            "455\n",
            "478\n",
            "456\n",
            "489\n",
            "1878\n"
          ]
        }
      ],
      "source": [
        "n = int(input(\"Numbers: \"))\n",
        "res = 0\n",
        "for i in range(n):\n",
        "  res += int(input())\n",
        "print(res)  "
      ]
    },
    {
      "cell_type": "markdown",
      "metadata": {
        "id": "jwZkM_iV83l6"
      },
      "source": [
        "## Sum of cubes\n",
        "## Statement\n",
        "For the given integer N calculate the following sum:\n",
        "1^3+2^3+…+N^3"
      ]
    },
    {
      "cell_type": "code",
      "execution_count": null,
      "metadata": {
        "colab": {
          "base_uri": "https://localhost:8080/"
        },
        "id": "iqWAd4AJ9NXJ",
        "outputId": "32218201-4ccf-438e-d69c-2c944886d28c"
      },
      "outputs": [
        {
          "name": "stdout",
          "output_type": "stream",
          "text": [
            "20\n",
            "44100\n"
          ]
        }
      ],
      "source": [
        "n = int(input())\n",
        "res = 0\n",
        "for i in range(1,n+1):\n",
        "  res+= (i*i*i)\n",
        "print(res)  \n",
        "\n",
        "\n",
        "\n"
      ]
    },
    {
      "cell_type": "code",
      "execution_count": null,
      "metadata": {
        "colab": {
          "base_uri": "https://localhost:8080/"
        },
        "id": "fhvUomgV_ZJR",
        "outputId": "70e5deea-83ce-4611-93f5-9cdda7a3db1b"
      },
      "outputs": [
        {
          "name": "stdout",
          "output_type": "stream",
          "text": [
            "4\n",
            "100\n"
          ]
        }
      ],
      "source": [
        "res = 0\n",
        "for i in range(1, int(input())+1):\n",
        "  res+= (i*i*i)\n",
        "print(res)"
      ]
    },
    {
      "cell_type": "markdown",
      "metadata": {
        "id": "xHyMoWeKBIZ4"
      },
      "source": [
        "##Factorial\n",
        "##Statement\n",
        "In mathematics, the factorial of an integer n, denoted by n! is the following product:\n",
        "n!=1×2×…×n\n",
        "For the given integer n calculate the value n!. Don't use math module in this exercise"
      ]
    },
    {
      "cell_type": "code",
      "execution_count": null,
      "metadata": {
        "colab": {
          "base_uri": "https://localhost:8080/"
        },
        "id": "g6Vu5qfHISn1",
        "outputId": "72a518b7-6404-4bb1-b8b4-086be02e1415"
      },
      "outputs": [
        {
          "name": "stdout",
          "output_type": "stream",
          "text": [
            "5\n",
            "120\n"
          ]
        }
      ],
      "source": [
        "fact = 1\n",
        "for i in range(1, int(input())+1):\n",
        "  fact = fact * i\n",
        "print(fact)  "
      ]
    },
    {
      "cell_type": "markdown",
      "metadata": {
        "id": "06GkXnGlK2iN"
      },
      "source": [
        "##The number of zeros\n",
        "##Statement\n",
        "Given N numbers: the first number in the input is N, after that N integers are given. Count the number of zeros among the given integers and print it.\n",
        "You need to count the number of numbers that are equal to zero, not the number of zero digits.\n",
        "\n"
      ]
    },
    {
      "cell_type": "code",
      "execution_count": null,
      "metadata": {
        "colab": {
          "base_uri": "https://localhost:8080/"
        },
        "id": "PnqIApCDI-bY",
        "outputId": "0a461815-6947-46ae-bf36-330819b5ced7"
      },
      "outputs": [
        {
          "name": "stdout",
          "output_type": "stream",
          "text": [
            "4\n",
            "454\n",
            "0\n",
            "0\n",
            "45\n",
            "2\n"
          ]
        }
      ],
      "source": [
        "N = int(input())\n",
        "count = 0\n",
        "for i in range(N):\n",
        "  if int(input()) == 00:\n",
        "    count += 1\n",
        "print(count)"
      ]
    },
    {
      "cell_type": "code",
      "execution_count": null,
      "metadata": {
        "colab": {
          "base_uri": "https://localhost:8080/"
        },
        "id": "gBQdJly4LV7a",
        "outputId": "2ca5390c-505e-4cdf-a892-03afe7c91355"
      },
      "outputs": [
        {
          "name": "stdout",
          "output_type": "stream",
          "text": [
            "4\n",
            "45\n",
            "56\n",
            "0\n",
            "0\n",
            "2\n"
          ]
        }
      ],
      "source": [
        "count = 0\n",
        "for i in  range(int(input())):\n",
        "  if int(input()) == 0:\n",
        "    count +=1\n",
        "print(count)    "
      ]
    },
    {
      "cell_type": "markdown",
      "metadata": {
        "id": "gkoxmMxJNzcI"
      },
      "source": [
        "##Adding factorials\n",
        "## Statement\n",
        "Given an integer n, print the sum 1!+2!+3!+...+n!.\n",
        "This problem has a solution with only one loop, so try to discover it. And don't use the math library :)"
      ]
    },
    {
      "cell_type": "code",
      "execution_count": null,
      "metadata": {
        "colab": {
          "base_uri": "https://localhost:8080/"
        },
        "id": "ioYciii-Lx5X",
        "outputId": "4237ba18-b783-4b4c-eeae-ce108e26edca"
      },
      "outputs": [
        {
          "name": "stdout",
          "output_type": "stream",
          "text": [
            "4\n",
            "33\n"
          ]
        }
      ],
      "source": [
        "n = int(input())\n",
        "fact = 1\n",
        "sum=0\n",
        "for i in range(1,n+1):\n",
        "  fact = fact *i\n",
        "  sum=sum+fact\n",
        "print(sum)  "
      ]
    },
    {
      "cell_type": "markdown",
      "metadata": {
        "id": "C-8PPlxXUhKu"
      },
      "source": [
        "## Ladder\n",
        "## Statement\n",
        "For given integer n ≤ 9 print a ladder of n steps. The k-th step consists of the integers from 1 to k without spaces between them.\n",
        "To do that, you can use the sep and end arguments for the function print()."
      ]
    },
    {
      "cell_type": "code",
      "execution_count": null,
      "metadata": {
        "colab": {
          "base_uri": "https://localhost:8080/"
        },
        "id": "5lHnU0DON3yg",
        "outputId": "ec0008c9-a492-472d-fb96-73072e29f929"
      },
      "outputs": [
        {
          "name": "stdout",
          "output_type": "stream",
          "text": [
            "4\n",
            "1\n",
            "12\n",
            "123\n",
            "1234\n"
          ]
        }
      ],
      "source": [
        "n = int(input())\n",
        "for i in range(1, n+1):\n",
        "  for j in range(1,i+1):\n",
        "    print(j, sep ='',end='')\n",
        "  print()  "
      ]
    },
    {
      "cell_type": "code",
      "execution_count": 65,
      "metadata": {
        "id": "Jvwkj12eUoIS"
      },
      "outputs": [],
      "source": [
        "# N = int(input())\n",
        "# for i in range(1,N+1):\n",
        "#   print(int(input()))\n",
        "#   #for j in range(i,N):\n",
        "    "
      ]
    },
    {
      "cell_type": "markdown",
      "source": [
        "## Strings"
      ],
      "metadata": {
        "id": "jHrCVQHcY0U-"
      }
    },
    {
      "cell_type": "code",
      "source": [
        "print('>_<'*5)"
      ],
      "metadata": {
        "colab": {
          "base_uri": "https://localhost:8080/"
        },
        "id": "yLS6litfs_ur",
        "outputId": "0b137e15-10fb-49cc-f80b-f91208dd1b3b"
      },
      "execution_count": 66,
      "outputs": [
        {
          "output_type": "stream",
          "name": "stdout",
          "text": [
            ">_<>_<>_<>_<>_<\n"
          ]
        }
      ]
    },
    {
      "cell_type": "code",
      "source": [
        "print(len('abcsfjklajdjf'))"
      ],
      "metadata": {
        "colab": {
          "base_uri": "https://localhost:8080/"
        },
        "id": "sX_qcKXRtKH1",
        "outputId": "e02f5886-71c5-463b-e127-2aadcb1df4ae"
      },
      "execution_count": 67,
      "outputs": [
        {
          "output_type": "stream",
          "name": "stdout",
          "text": [
            "13\n"
          ]
        }
      ]
    },
    {
      "cell_type": "code",
      "source": [
        "print(2**100)\n",
        "s = str(2**100)\n",
        "print(s)\n",
        "print(len(s))"
      ],
      "metadata": {
        "colab": {
          "base_uri": "https://localhost:8080/"
        },
        "id": "VbKsGGDttQCQ",
        "outputId": "d78bc54a-05b3-4c20-863b-ed8f96d3d73d"
      },
      "execution_count": 69,
      "outputs": [
        {
          "output_type": "stream",
          "name": "stdout",
          "text": [
            "1267650600228229401496703205376\n",
            "1267650600228229401496703205376\n",
            "31\n"
          ]
        }
      ]
    },
    {
      "cell_type": "markdown",
      "source": [],
      "metadata": {
        "id": "QhXETm5_tZTq"
      }
    },
    {
      "cell_type": "code",
      "source": [
        "s = 'Hello'\n",
        "print(s[:-1])    # remove the last character"
      ],
      "metadata": {
        "colab": {
          "base_uri": "https://localhost:8080/"
        },
        "id": "OJvscu_YvtLH",
        "outputId": "b47059f5-7580-4324-8539-5c5ac27c3b3a"
      },
      "execution_count": 73,
      "outputs": [
        {
          "output_type": "stream",
          "name": "stdout",
          "text": [
            "Hell\n"
          ]
        }
      ]
    },
    {
      "cell_type": "code",
      "source": [
        "s[1:4]"
      ],
      "metadata": {
        "colab": {
          "base_uri": "https://localhost:8080/",
          "height": 35
        },
        "id": "1LBvwTvFv8lw",
        "outputId": "09564f98-6af7-48b4-c8ef-3be4b18bcc0d"
      },
      "execution_count": 75,
      "outputs": [
        {
          "output_type": "execute_result",
          "data": {
            "text/plain": [
              "'ell'"
            ],
            "application/vnd.google.colaboratory.intrinsic+json": {
              "type": "string"
            }
          },
          "metadata": {},
          "execution_count": 75
        }
      ]
    },
    {
      "cell_type": "code",
      "source": [
        "s[-1]"
      ],
      "metadata": {
        "colab": {
          "base_uri": "https://localhost:8080/",
          "height": 35
        },
        "id": "RPGLGcwNwmku",
        "outputId": "ba2fa85a-8185-4ee2-d935-8fb210017567"
      },
      "execution_count": 76,
      "outputs": [
        {
          "output_type": "execute_result",
          "data": {
            "text/plain": [
              "'o'"
            ],
            "application/vnd.google.colaboratory.intrinsic+json": {
              "type": "string"
            }
          },
          "metadata": {},
          "execution_count": 76
        }
      ]
    },
    {
      "cell_type": "code",
      "source": [
        "## slices : immutability of strings\n",
        "s = 'abcdefg'\n",
        "print(s[1])\n",
        "print(s[-1])\n",
        "print(s[1:3])\n",
        "print(s[1:-1])\n",
        "print(s[:3])   #\n",
        "print(s[2:])\n",
        "print(s[:-1])\n",
        "print(s[::2])\n",
        "print(s[1::2])\n",
        "print(s[::-1])\n"
      ],
      "metadata": {
        "colab": {
          "base_uri": "https://localhost:8080/"
        },
        "id": "4bmekTZDwu8B",
        "outputId": "37da475d-9b1c-4560-804b-0418960e1b59"
      },
      "execution_count": 77,
      "outputs": [
        {
          "output_type": "stream",
          "name": "stdout",
          "text": [
            "b\n",
            "g\n",
            "bc\n",
            "bcdef\n",
            "abc\n",
            "cdefg\n",
            "abcdef\n",
            "aceg\n",
            "bdf\n",
            "gfedcba\n"
          ]
        }
      ]
    }
  ],
  "metadata": {
    "colab": {
      "provenance": [],
      "authorship_tag": "ABX9TyPtDAiNqiFfKMdtrDaHy7PB",
      "include_colab_link": true
    },
    "kernelspec": {
      "display_name": "Python 3",
      "name": "python3"
    },
    "language_info": {
      "name": "python"
    }
  },
  "nbformat": 4,
  "nbformat_minor": 0
}